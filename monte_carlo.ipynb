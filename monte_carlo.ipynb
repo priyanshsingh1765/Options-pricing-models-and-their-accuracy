{
 "cells": [
  {
   "cell_type": "code",
   "execution_count": 22,
   "metadata": {},
   "outputs": [],
   "source": [
    "import numpy as np\n",
    "from numpy.polynomial.polynomial import Polynomial\n",
    "import pandas as pd\n",
    "import matplotlib.pyplot as plt"
   ]
  },
  {
   "cell_type": "code",
   "execution_count": 30,
   "metadata": {},
   "outputs": [],
   "source": [
    "def data_transf_underlying(df_underlying_asset):\n",
    " df_underlying_transformed = df_underlying_asset[['Date ', 'close ']]\n",
    " df_underlying_transformed['Date '] = pd.to_datetime(df_underlying_transformed['Date '])\n",
    " df_underlying_transformed = df_underlying_transformed.applymap(lambda x: float(x.replace(',', '')) if isinstance(x, str) else x)\n",
    " return df_underlying_transformed\n",
    "\n",
    "def simulate_stock_paths(S0, mu, sigma, T, M, I):\n",
    "    dt = T / M\n",
    "    paths = np.zeros((M + 1, I))\n",
    "    paths[0] = S0\n",
    "    for t in range(1, M + 1):\n",
    "        z = np.random.standard_normal(I)\n",
    "        paths[t] = paths[t - 1] * np.exp((mu - 0.5 * sigma ** 2) * dt + sigma * np.sqrt(dt) * z)\n",
    "    return paths\n",
    "\n",
    "\n",
    "def european_option_price(S0, K, T, r, sigma, M, I, option_type='call'):\n",
    "    paths = simulate_stock_paths(S0, r, sigma, T, M, I)\n",
    "    #Payoff at maturity\n",
    "    if option_type == 'call':\n",
    "        payoffs = np.maximum(paths[-1] - K, 0)\n",
    "    else:\n",
    "        payoffs = np.maximum(K - paths[-1], 0)\n",
    "    option_price = np.exp(-r * T) * np.mean(payoffs)\n",
    "    return option_price\n",
    "\n",
    "def american_option_price(S0, K, T, r, sigma, M, I, option_type='call'):\n",
    "    paths = simulate_stock_paths(S0, r, sigma, T, M, I)\n",
    "    dt = T / M\n",
    "    payoffs = np.maximum(0, paths[-1] - K if option_type == 'call' else K - paths[-1])\n",
    "    cash_flows = np.zeros_like(payoffs)\n",
    "\n",
    "    # Step backwards in time to estimate the optimal exercise strategy\n",
    "    for t in range(M - 1, 0, -1):\n",
    "        in_the_money = np.where(paths[t] > K if option_type == 'call' else paths[t] < K)\n",
    "        regressor = np.polyfit(paths[t, in_the_money], payoffs[in_the_money] * np.exp(-r * dt), 2)\n",
    "        continuation_value = np.polyval(regressor, paths[t])\n",
    "        exercise_value = np.maximum(0, paths[t] - K if option_type == 'call' else K - paths[t])\n",
    "        cash_flows[in_the_money] = np.where(exercise_value[in_the_money] > continuation_value[in_the_money], \n",
    "                                            exercise_value[in_the_money], cash_flows[in_the_money])\n",
    "        payoffs = cash_flows * np.exp(-r * dt)\n",
    "\n",
    "    option_price = np.exp(-r * dt) * np.mean(payoffs)\n",
    "    return option_price"
   ]
  },
  {
   "cell_type": "code",
   "execution_count": 80,
   "metadata": {},
   "outputs": [
    {
     "name": "stderr",
     "output_type": "stream",
     "text": [
      "C:\\Users\\Admin\\AppData\\Local\\Temp\\ipykernel_13332\\3430764413.py:3: SettingWithCopyWarning: \n",
      "A value is trying to be set on a copy of a slice from a DataFrame.\n",
      "Try using .loc[row_indexer,col_indexer] = value instead\n",
      "\n",
      "See the caveats in the documentation: https://pandas.pydata.org/pandas-docs/stable/user_guide/indexing.html#returning-a-view-versus-a-copy\n",
      "  df_underlying_transformed['Date '] = pd.to_datetime(df_underlying_transformed['Date '])\n",
      "C:\\Users\\Admin\\AppData\\Local\\Temp\\ipykernel_13332\\3430764413.py:4: FutureWarning: DataFrame.applymap has been deprecated. Use DataFrame.map instead.\n",
      "  df_underlying_transformed = df_underlying_transformed.applymap(lambda x: float(x.replace(',', '')) if isinstance(x, str) else x)\n"
     ]
    }
   ],
   "source": [
    "underlying_data = pd.read_csv(r\"C:\\Users\\Admin\\OneDrive\\Desktop\\Finsearch\\Dataset\\reliance_underlying_2023.csv\")\n",
    "underlying_data = data_transf_underlying(underlying_data)\n",
    "close_price = underlying_data['close ']\n",
    "close_price_rev = close_price[::-1]\n",
    "S0 = 2318.15\n",
    "T = 60\n",
    "M = 60\n",
    "I = 10\n",
    "mu = ((2605.55 - 2318.15)/1000)\n",
    "sigma = 0.189"
   ]
  },
  {
   "cell_type": "code",
   "execution_count": 81,
   "metadata": {},
   "outputs": [],
   "source": [
    "simulation = simulate_stock_paths(S0, mu, sigma, T, M, I)"
   ]
  },
  {
   "cell_type": "code",
   "execution_count": 82,
   "metadata": {},
   "outputs": [
    {
     "data": {
      "text/plain": [
       "[<matplotlib.lines.Line2D at 0x1a056a5b7a0>]"
      ]
     },
     "execution_count": 82,
     "metadata": {},
     "output_type": "execute_result"
    },
    {
     "data": {
      "image/png": "[encoded data removed]",
      "text/plain": [
       "<Figure size 640x480 with 1 Axes>"
      ]
     },
     "metadata": {},
     "output_type": "display_data"
    }
   ],
   "source": [
    "for i in range(I):\n",
    " plt.plot(np.arange(len(simulation[:, i])), simulation[:, i])\n",
    "\n",
    "plt.plot(np.arange(60), close_price[59::-1], color = 'black')\n",
    "\n",
    "    "
   ]
  },
  {
   "cell_type": "code",
   "execution_count": 83,
   "metadata": {},
   "outputs": [
    {
     "data": {
      "text/plain": [
       "2502.1912491670255"
      ]
     },
     "execution_count": 83,
     "metadata": {},
     "output_type": "execute_result"
    }
   ],
   "source": [
    "european_option_price(S0, 2400, T, 0.07, sigma, M, I)"
   ]
  },
  {
   "cell_type": "code",
   "execution_count": null,
   "metadata": {},
   "outputs": [],
   "source": []
  }
 ],
 "metadata": {
  "kernelspec": {
   "display_name": "Python 3",
   "language": "python",
   "name": "python3"
  },
  "language_info": {
   "codemirror_mode": {
    "name": "ipython",
    "version": 3
   },
   "file_extension": ".py",
   "mimetype": "text/x-python",
   "name": "python",
   "nbconvert_exporter": "python",
   "pygments_lexer": "ipython3",
   "version": "3.12.2"
  }
 },
 "nbformat": 4,
 "nbformat_minor": 2
}
