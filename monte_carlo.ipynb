{
 "cells": [
  {
   "cell_type": "code",
   "execution_count": 2,
   "metadata": {},
   "outputs": [],
   "source": [
    "import numpy as np\n",
    "from numpy.polynomial.polynomial import Polynomial\n",
    "import pandas as pd\n",
    "import matplotlib.pyplot as plt"
   ]
  },
  {
   "cell_type": "code",
   "execution_count": 71,
   "metadata": {},
   "outputs": [],
   "source": [
    "def data_transf_underlying(df_underlying_asset):\n",
    " df_underlying_transformed = df_underlying_asset[['Date ', 'close ']]\n",
    " df_underlying_transformed['Date '] = pd.to_datetime(df_underlying_transformed['Date '])\n",
    " df_underlying_transformed = df_underlying_transformed.applymap(lambda x: float(x.replace(',', '')) if isinstance(x, str) else x)\n",
    " return df_underlying_transformed\n",
    "\n",
    "def simulate_stock_paths(S0, mu, sigma, T, M, I):\n",
    "    dt = T / M\n",
    "    paths = np.zeros((M + 1, I))\n",
    "    paths[0] = S0\n",
    "    for t in range(1, M + 1):\n",
    "        z = np.random.normal(scale=sigma,size=I)\n",
    "        paths[t] = paths[t - 1] * np.exp((mu - 0.5 * sigma ** 2) * dt + sigma * np.sqrt(dt) * z)\n",
    "    return paths\n",
    "\n",
    "def monte_european(S,K,T,r,vol,I,type):\n",
    "    priced=[]\n",
    "    for i in range(I):\n",
    "        price=S*np.exp((r-(0.5*vol**2))*T+(vol*np.sqrt(T)*np.random.normal(0,1)))\n",
    "        if type=='call':\n",
    "            priced.append(max(0,K-price))\n",
    "        else:\n",
    "            priced.append(max(0,price-K))\n",
    "    return np.exp(-r*T)*np.mean(priced)\n",
    "\n",
    "\n",
    "def monte_american(S,K,T,r,vol,I,N,type):\n",
    "    prices=[]\n",
    "    for i in range(N):\n",
    "        prices.append(monte_european(S,K,(i+1)*T/N,r,vol,I,type))\n",
    "    return max(prices)"
   ]
  },
  {
   "cell_type": "code",
   "execution_count": 72,
   "metadata": {},
   "outputs": [
    {
     "name": "stderr",
     "output_type": "stream",
     "text": [
      "C:\\Users\\Admin\\AppData\\Local\\Temp\\ipykernel_14116\\656488300.py:3: SettingWithCopyWarning: \n",
      "A value is trying to be set on a copy of a slice from a DataFrame.\n",
      "Try using .loc[row_indexer,col_indexer] = value instead\n",
      "\n",
      "See the caveats in the documentation: https://pandas.pydata.org/pandas-docs/stable/user_guide/indexing.html#returning-a-view-versus-a-copy\n",
      "  df_underlying_transformed['Date '] = pd.to_datetime(df_underlying_transformed['Date '])\n",
      "C:\\Users\\Admin\\AppData\\Local\\Temp\\ipykernel_14116\\656488300.py:4: FutureWarning: DataFrame.applymap has been deprecated. Use DataFrame.map instead.\n",
      "  df_underlying_transformed = df_underlying_transformed.applymap(lambda x: float(x.replace(',', '')) if isinstance(x, str) else x)\n"
     ]
    }
   ],
   "source": [
    "underlying_data = pd.read_csv(r\"C:\\Users\\Admin\\OneDrive\\Desktop\\Finsearch\\Dataset\\reliance_underlying_2023.csv\")\n",
    "underlying_data = data_transf_underlying(underlying_data)\n",
    "close_price = underlying_data['close ']\n",
    "close_price_rev = close_price[::-1]\n",
    "S0 = 2318.15\n",
    "T = 60/365\n",
    "M = 60\n",
    "I = 10000\n",
    "r = 0.07\n",
    "K = 2400\n",
    "mu = (2605.55 - 2318.15)/2318.15\n",
    "sigma = 0.189"
   ]
  },
  {
   "cell_type": "code",
   "execution_count": 73,
   "metadata": {},
   "outputs": [],
   "source": [
    "option_price = monte_european(S0,K,T,r,sigma,I,'call')"
   ]
  },
  {
   "cell_type": "code",
   "execution_count": 74,
   "metadata": {},
   "outputs": [
    {
     "name": "stdout",
     "output_type": "stream",
     "text": [
      "103.02447365689281\n"
     ]
    }
   ],
   "source": [
    "print(option_price)"
   ]
  }
 ],
 "metadata": {
  "kernelspec": {
   "display_name": "Python 3",
   "language": "python",
   "name": "python3"
  },
  "language_info": {
   "codemirror_mode": {
    "name": "ipython",
    "version": 3
   },
   "file_extension": ".py",
   "mimetype": "text/x-python",
   "name": "python",
   "nbconvert_exporter": "python",
   "pygments_lexer": "ipython3",
   "version": "3.12.2"
  }
 },
 "nbformat": 4,
 "nbformat_minor": 2
}
